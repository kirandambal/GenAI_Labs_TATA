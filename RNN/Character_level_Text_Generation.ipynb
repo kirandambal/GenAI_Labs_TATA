{
  "nbformat": 4,
  "nbformat_minor": 0,
  "metadata": {
    "colab": {
      "provenance": [],
      "gpuType": "T4"
    },
    "kernelspec": {
      "name": "python3",
      "display_name": "Python 3"
    },
    "language_info": {
      "name": "python"
    },
    "accelerator": "GPU"
  },
  "cells": [
    {
      "cell_type": "code",
      "execution_count": null,
      "metadata": {
        "colab": {
          "base_uri": "https://localhost:8080/"
        },
        "id": "Z0GkRI9crwrN",
        "outputId": "96dd2ebd-029e-40c2-e7a6-cd9836cc5bf3"
      },
      "outputs": [
        {
          "output_type": "stream",
          "name": "stdout",
          "text": [
            "Requirement already satisfied: numpy in /usr/local/lib/python3.10/dist-packages (1.26.4)\n",
            "Requirement already satisfied: pandas in /usr/local/lib/python3.10/dist-packages (2.1.4)\n",
            "Requirement already satisfied: keras in /usr/local/lib/python3.10/dist-packages (3.4.1)\n",
            "Requirement already satisfied: tensorflow in /usr/local/lib/python3.10/dist-packages (2.17.0)\n",
            "Requirement already satisfied: python-dateutil>=2.8.2 in /usr/local/lib/python3.10/dist-packages (from pandas) (2.8.2)\n",
            "Requirement already satisfied: pytz>=2020.1 in /usr/local/lib/python3.10/dist-packages (from pandas) (2024.1)\n",
            "Requirement already satisfied: tzdata>=2022.1 in /usr/local/lib/python3.10/dist-packages (from pandas) (2024.1)\n",
            "Requirement already satisfied: absl-py in /usr/local/lib/python3.10/dist-packages (from keras) (1.4.0)\n",
            "Requirement already satisfied: rich in /usr/local/lib/python3.10/dist-packages (from keras) (13.7.1)\n",
            "Requirement already satisfied: namex in /usr/local/lib/python3.10/dist-packages (from keras) (0.0.8)\n",
            "Requirement already satisfied: h5py in /usr/local/lib/python3.10/dist-packages (from keras) (3.11.0)\n",
            "Requirement already satisfied: optree in /usr/local/lib/python3.10/dist-packages (from keras) (0.12.1)\n",
            "Requirement already satisfied: ml-dtypes in /usr/local/lib/python3.10/dist-packages (from keras) (0.4.0)\n",
            "Requirement already satisfied: packaging in /usr/local/lib/python3.10/dist-packages (from keras) (24.1)\n",
            "Requirement already satisfied: astunparse>=1.6.0 in /usr/local/lib/python3.10/dist-packages (from tensorflow) (1.6.3)\n",
            "Requirement already satisfied: flatbuffers>=24.3.25 in /usr/local/lib/python3.10/dist-packages (from tensorflow) (24.3.25)\n",
            "Requirement already satisfied: gast!=0.5.0,!=0.5.1,!=0.5.2,>=0.2.1 in /usr/local/lib/python3.10/dist-packages (from tensorflow) (0.6.0)\n",
            "Requirement already satisfied: google-pasta>=0.1.1 in /usr/local/lib/python3.10/dist-packages (from tensorflow) (0.2.0)\n",
            "Requirement already satisfied: libclang>=13.0.0 in /usr/local/lib/python3.10/dist-packages (from tensorflow) (18.1.1)\n",
            "Requirement already satisfied: opt-einsum>=2.3.2 in /usr/local/lib/python3.10/dist-packages (from tensorflow) (3.3.0)\n",
            "Requirement already satisfied: protobuf!=4.21.0,!=4.21.1,!=4.21.2,!=4.21.3,!=4.21.4,!=4.21.5,<5.0.0dev,>=3.20.3 in /usr/local/lib/python3.10/dist-packages (from tensorflow) (3.20.3)\n",
            "Requirement already satisfied: requests<3,>=2.21.0 in /usr/local/lib/python3.10/dist-packages (from tensorflow) (2.32.3)\n",
            "Requirement already satisfied: setuptools in /usr/local/lib/python3.10/dist-packages (from tensorflow) (71.0.4)\n",
            "Requirement already satisfied: six>=1.12.0 in /usr/local/lib/python3.10/dist-packages (from tensorflow) (1.16.0)\n",
            "Requirement already satisfied: termcolor>=1.1.0 in /usr/local/lib/python3.10/dist-packages (from tensorflow) (2.4.0)\n",
            "Requirement already satisfied: typing-extensions>=3.6.6 in /usr/local/lib/python3.10/dist-packages (from tensorflow) (4.12.2)\n",
            "Requirement already satisfied: wrapt>=1.11.0 in /usr/local/lib/python3.10/dist-packages (from tensorflow) (1.16.0)\n",
            "Requirement already satisfied: grpcio<2.0,>=1.24.3 in /usr/local/lib/python3.10/dist-packages (from tensorflow) (1.64.1)\n",
            "Requirement already satisfied: tensorboard<2.18,>=2.17 in /usr/local/lib/python3.10/dist-packages (from tensorflow) (2.17.0)\n",
            "Requirement already satisfied: tensorflow-io-gcs-filesystem>=0.23.1 in /usr/local/lib/python3.10/dist-packages (from tensorflow) (0.37.1)\n",
            "Requirement already satisfied: wheel<1.0,>=0.23.0 in /usr/local/lib/python3.10/dist-packages (from astunparse>=1.6.0->tensorflow) (0.44.0)\n",
            "Requirement already satisfied: charset-normalizer<4,>=2 in /usr/local/lib/python3.10/dist-packages (from requests<3,>=2.21.0->tensorflow) (3.3.2)\n",
            "Requirement already satisfied: idna<4,>=2.5 in /usr/local/lib/python3.10/dist-packages (from requests<3,>=2.21.0->tensorflow) (3.7)\n",
            "Requirement already satisfied: urllib3<3,>=1.21.1 in /usr/local/lib/python3.10/dist-packages (from requests<3,>=2.21.0->tensorflow) (2.0.7)\n",
            "Requirement already satisfied: certifi>=2017.4.17 in /usr/local/lib/python3.10/dist-packages (from requests<3,>=2.21.0->tensorflow) (2024.7.4)\n",
            "Requirement already satisfied: markdown>=2.6.8 in /usr/local/lib/python3.10/dist-packages (from tensorboard<2.18,>=2.17->tensorflow) (3.6)\n",
            "Requirement already satisfied: tensorboard-data-server<0.8.0,>=0.7.0 in /usr/local/lib/python3.10/dist-packages (from tensorboard<2.18,>=2.17->tensorflow) (0.7.2)\n",
            "Requirement already satisfied: werkzeug>=1.0.1 in /usr/local/lib/python3.10/dist-packages (from tensorboard<2.18,>=2.17->tensorflow) (3.0.3)\n",
            "Requirement already satisfied: markdown-it-py>=2.2.0 in /usr/local/lib/python3.10/dist-packages (from rich->keras) (3.0.0)\n",
            "Requirement already satisfied: pygments<3.0.0,>=2.13.0 in /usr/local/lib/python3.10/dist-packages (from rich->keras) (2.16.1)\n",
            "Requirement already satisfied: mdurl~=0.1 in /usr/local/lib/python3.10/dist-packages (from markdown-it-py>=2.2.0->rich->keras) (0.1.2)\n",
            "Requirement already satisfied: MarkupSafe>=2.1.1 in /usr/local/lib/python3.10/dist-packages (from werkzeug>=1.0.1->tensorboard<2.18,>=2.17->tensorflow) (2.1.5)\n"
          ]
        }
      ],
      "source": [
        "pip install numpy pandas keras tensorflow\n"
      ]
    },
    {
      "cell_type": "code",
      "source": [
        "import numpy as np\n",
        "from tensorflow.keras.utils import to_categorical\n",
        "from tensorflow.keras.preprocessing.sequence import pad_sequences\n",
        "\n",
        "# Load the dataset\n",
        "with open('/content/NietzscheTexts.txt', 'r') as file:\n",
        "    text = file.read().lower()\n",
        "\n",
        "# Create a sorted list of unique characters\n",
        "chars = sorted(list(set(text)))\n",
        "char_to_index = {char: i for i, char in enumerate(chars)}\n",
        "index_to_char = {i: char for i, char in enumerate(chars)}\n",
        "\n",
        "# Convert text to sequences of integers\n",
        "sequences = [char_to_index[char] for char in text]\n",
        "\n",
        "# Define the sequence length and step\n",
        "sequence_length = 40\n",
        "step = 3\n",
        "\n",
        "# Generate input and output sequences\n",
        "X = []\n",
        "y = []\n",
        "for i in range(0, len(sequences) - sequence_length, step):\n",
        "    seq = sequences[i: i + sequence_length]\n",
        "    label = sequences[i + sequence_length]\n",
        "    X.append(seq)\n",
        "    y.append(label)\n",
        "\n",
        "# Convert to numpy arrays and one-hot encode the labels\n",
        "X = np.array(X)\n",
        "y = to_categorical(y, num_classes=len(chars))\n"
      ],
      "metadata": {
        "id": "KceUtAz0r8v3"
      },
      "execution_count": null,
      "outputs": []
    },
    {
      "cell_type": "code",
      "source": [
        "from tensorflow.keras.layers import Bidirectional\n",
        "\n",
        "model = Sequential()\n",
        "model.add(Embedding(len(chars), 50, input_length=sequence_length))\n",
        "model.add(Bidirectional(LSTM(128, return_sequences=True)))\n",
        "model.add(LSTM(128))\n",
        "model.add(Dense(len(chars), activation='softmax'))\n",
        "model.compile(loss='categorical_crossentropy', optimizer='adam', metrics=['accuracy'])\n"
      ],
      "metadata": {
        "id": "ZJT3oAecr9pg"
      },
      "execution_count": null,
      "outputs": []
    },
    {
      "cell_type": "code",
      "source": [
        "# Train the model\n",
        "model.fit(X, y, epochs=25, batch_size=128, validation_split=0.1)\n"
      ],
      "metadata": {
        "colab": {
          "base_uri": "https://localhost:8080/"
        },
        "id": "Ns_5Ur0JsAmt",
        "outputId": "547920f4-c20d-4488-9281-2d312b90a6a4"
      },
      "execution_count": null,
      "outputs": [
        {
          "output_type": "stream",
          "name": "stdout",
          "text": [
            "Epoch 1/25\n",
            "\u001b[1m1409/1409\u001b[0m \u001b[32m━━━━━━━━━━━━━━━━━━━━\u001b[0m\u001b[37m\u001b[0m \u001b[1m23s\u001b[0m 14ms/step - accuracy: 0.2473 - loss: 2.6733 - val_accuracy: 0.3825 - val_loss: 2.1168\n",
            "Epoch 2/25\n",
            "\u001b[1m1409/1409\u001b[0m \u001b[32m━━━━━━━━━━━━━━━━━━━━\u001b[0m\u001b[37m\u001b[0m \u001b[1m21s\u001b[0m 14ms/step - accuracy: 0.3926 - loss: 2.0582 - val_accuracy: 0.4392 - val_loss: 1.8955\n",
            "Epoch 3/25\n",
            "\u001b[1m1409/1409\u001b[0m \u001b[32m━━━━━━━━━━━━━━━━━━━━\u001b[0m\u001b[37m\u001b[0m \u001b[1m19s\u001b[0m 14ms/step - accuracy: 0.4577 - loss: 1.8385 - val_accuracy: 0.4762 - val_loss: 1.7578\n",
            "Epoch 4/25\n",
            "\u001b[1m1409/1409\u001b[0m \u001b[32m━━━━━━━━━━━━━━━━━━━━\u001b[0m\u001b[37m\u001b[0m \u001b[1m20s\u001b[0m 14ms/step - accuracy: 0.4912 - loss: 1.7068 - val_accuracy: 0.4980 - val_loss: 1.6784\n",
            "Epoch 5/25\n",
            "\u001b[1m1409/1409\u001b[0m \u001b[32m━━━━━━━━━━━━━━━━━━━━\u001b[0m\u001b[37m\u001b[0m \u001b[1m21s\u001b[0m 14ms/step - accuracy: 0.5199 - loss: 1.6080 - val_accuracy: 0.5161 - val_loss: 1.6243\n",
            "Epoch 6/25\n",
            "\u001b[1m1409/1409\u001b[0m \u001b[32m━━━━━━━━━━━━━━━━━━━━\u001b[0m\u001b[37m\u001b[0m \u001b[1m20s\u001b[0m 14ms/step - accuracy: 0.5380 - loss: 1.5430 - val_accuracy: 0.5270 - val_loss: 1.5836\n",
            "Epoch 7/25\n",
            "\u001b[1m1409/1409\u001b[0m \u001b[32m━━━━━━━━━━━━━━━━━━━━\u001b[0m\u001b[37m\u001b[0m \u001b[1m20s\u001b[0m 14ms/step - accuracy: 0.5506 - loss: 1.4885 - val_accuracy: 0.5363 - val_loss: 1.5567\n",
            "Epoch 8/25\n",
            "\u001b[1m1409/1409\u001b[0m \u001b[32m━━━━━━━━━━━━━━━━━━━━\u001b[0m\u001b[37m\u001b[0m \u001b[1m20s\u001b[0m 14ms/step - accuracy: 0.5665 - loss: 1.4304 - val_accuracy: 0.5401 - val_loss: 1.5488\n",
            "Epoch 9/25\n",
            "\u001b[1m1409/1409\u001b[0m \u001b[32m━━━━━━━━━━━━━━━━━━━━\u001b[0m\u001b[37m\u001b[0m \u001b[1m19s\u001b[0m 14ms/step - accuracy: 0.5755 - loss: 1.4022 - val_accuracy: 0.5459 - val_loss: 1.5295\n",
            "Epoch 10/25\n",
            "\u001b[1m1409/1409\u001b[0m \u001b[32m━━━━━━━━━━━━━━━━━━━━\u001b[0m\u001b[37m\u001b[0m \u001b[1m19s\u001b[0m 14ms/step - accuracy: 0.5866 - loss: 1.3615 - val_accuracy: 0.5454 - val_loss: 1.5267\n",
            "Epoch 11/25\n",
            "\u001b[1m1409/1409\u001b[0m \u001b[32m━━━━━━━━━━━━━━━━━━━━\u001b[0m\u001b[37m\u001b[0m \u001b[1m20s\u001b[0m 14ms/step - accuracy: 0.5930 - loss: 1.3340 - val_accuracy: 0.5510 - val_loss: 1.5171\n",
            "Epoch 12/25\n",
            "\u001b[1m1409/1409\u001b[0m \u001b[32m━━━━━━━━━━━━━━━━━━━━\u001b[0m\u001b[37m\u001b[0m \u001b[1m21s\u001b[0m 14ms/step - accuracy: 0.6018 - loss: 1.3055 - val_accuracy: 0.5531 - val_loss: 1.5189\n",
            "Epoch 13/25\n",
            "\u001b[1m1409/1409\u001b[0m \u001b[32m━━━━━━━━━━━━━━━━━━━━\u001b[0m\u001b[37m\u001b[0m \u001b[1m20s\u001b[0m 14ms/step - accuracy: 0.6052 - loss: 1.2864 - val_accuracy: 0.5534 - val_loss: 1.5140\n",
            "Epoch 14/25\n",
            "\u001b[1m1409/1409\u001b[0m \u001b[32m━━━━━━━━━━━━━━━━━━━━\u001b[0m\u001b[37m\u001b[0m \u001b[1m20s\u001b[0m 14ms/step - accuracy: 0.6136 - loss: 1.2597 - val_accuracy: 0.5512 - val_loss: 1.5149\n",
            "Epoch 15/25\n",
            "\u001b[1m1409/1409\u001b[0m \u001b[32m━━━━━━━━━━━━━━━━━━━━\u001b[0m\u001b[37m\u001b[0m \u001b[1m21s\u001b[0m 14ms/step - accuracy: 0.6209 - loss: 1.2348 - val_accuracy: 0.5488 - val_loss: 1.5196\n",
            "Epoch 16/25\n",
            "\u001b[1m1409/1409\u001b[0m \u001b[32m━━━━━━━━━━━━━━━━━━━━\u001b[0m\u001b[37m\u001b[0m \u001b[1m20s\u001b[0m 14ms/step - accuracy: 0.6259 - loss: 1.2120 - val_accuracy: 0.5532 - val_loss: 1.5240\n",
            "Epoch 17/25\n",
            "\u001b[1m1409/1409\u001b[0m \u001b[32m━━━━━━━━━━━━━━━━━━━━\u001b[0m\u001b[37m\u001b[0m \u001b[1m20s\u001b[0m 14ms/step - accuracy: 0.6337 - loss: 1.1887 - val_accuracy: 0.5544 - val_loss: 1.5306\n",
            "Epoch 18/25\n",
            "\u001b[1m1409/1409\u001b[0m \u001b[32m━━━━━━━━━━━━━━━━━━━━\u001b[0m\u001b[37m\u001b[0m \u001b[1m20s\u001b[0m 14ms/step - accuracy: 0.6371 - loss: 1.1735 - val_accuracy: 0.5516 - val_loss: 1.5346\n",
            "Epoch 19/25\n",
            "\u001b[1m1409/1409\u001b[0m \u001b[32m━━━━━━━━━━━━━━━━━━━━\u001b[0m\u001b[37m\u001b[0m \u001b[1m20s\u001b[0m 14ms/step - accuracy: 0.6448 - loss: 1.1446 - val_accuracy: 0.5478 - val_loss: 1.5523\n",
            "Epoch 20/25\n",
            "\u001b[1m1409/1409\u001b[0m \u001b[32m━━━━━━━━━━━━━━━━━━━━\u001b[0m\u001b[37m\u001b[0m \u001b[1m21s\u001b[0m 14ms/step - accuracy: 0.6509 - loss: 1.1298 - val_accuracy: 0.5526 - val_loss: 1.5536\n",
            "Epoch 21/25\n",
            "\u001b[1m1409/1409\u001b[0m \u001b[32m━━━━━━━━━━━━━━━━━━━━\u001b[0m\u001b[37m\u001b[0m \u001b[1m19s\u001b[0m 14ms/step - accuracy: 0.6546 - loss: 1.1087 - val_accuracy: 0.5525 - val_loss: 1.5605\n",
            "Epoch 22/25\n",
            "\u001b[1m1409/1409\u001b[0m \u001b[32m━━━━━━━━━━━━━━━━━━━━\u001b[0m\u001b[37m\u001b[0m \u001b[1m20s\u001b[0m 14ms/step - accuracy: 0.6623 - loss: 1.0866 - val_accuracy: 0.5498 - val_loss: 1.5722\n",
            "Epoch 23/25\n",
            "\u001b[1m1409/1409\u001b[0m \u001b[32m━━━━━━━━━━━━━━━━━━━━\u001b[0m\u001b[37m\u001b[0m \u001b[1m21s\u001b[0m 14ms/step - accuracy: 0.6682 - loss: 1.0708 - val_accuracy: 0.5482 - val_loss: 1.5857\n",
            "Epoch 24/25\n",
            "\u001b[1m1409/1409\u001b[0m \u001b[32m━━━━━━━━━━━━━━━━━━━━\u001b[0m\u001b[37m\u001b[0m \u001b[1m19s\u001b[0m 14ms/step - accuracy: 0.6724 - loss: 1.0558 - val_accuracy: 0.5511 - val_loss: 1.5999\n",
            "Epoch 25/25\n",
            "\u001b[1m1409/1409\u001b[0m \u001b[32m━━━━━━━━━━━━━━━━━━━━\u001b[0m\u001b[37m\u001b[0m \u001b[1m21s\u001b[0m 14ms/step - accuracy: 0.6773 - loss: 1.0372 - val_accuracy: 0.5439 - val_loss: 1.6130\n"
          ]
        },
        {
          "output_type": "execute_result",
          "data": {
            "text/plain": [
              "<keras.src.callbacks.history.History at 0x7a82b7f45450>"
            ]
          },
          "metadata": {},
          "execution_count": 10
        }
      ]
    },
    {
      "cell_type": "code",
      "source": [
        "def generate_text(seed, length=500, temperature=1.0):\n",
        "    generated = seed\n",
        "    for _ in range(length):\n",
        "        # Convert seed text to sequence of integers\n",
        "        seed_seq = [char_to_index[char] for char in seed]\n",
        "        seed_seq = np.array(seed_seq).reshape(1, -1)\n",
        "\n",
        "        # Predict the next character\n",
        "        pred = model.predict(seed_seq, verbose=0)[0]\n",
        "        #\n",
        "        # Apply temperature scaling\n",
        "        pred = np.log(pred + 1e-10) / temperature\n",
        "        pred = np.exp(pred) / np.sum(np.exp(pred))\n",
        "\n",
        "        # Sample the next character\n",
        "        next_index = np.random.choice(len(chars), p=pred)\n",
        "        next_char = index_to_char[next_index]\n",
        "\n",
        "        # Append the character to the generated text\n",
        "        generated += next_char\n",
        "\n",
        "        # Update the seed for the next character\n",
        "        seed = seed[1:] + next_char\n",
        "\n",
        "    return generated\n",
        "\n",
        "# Generate text\n",
        "seed_text = \"the philosopher\"\n",
        "print(generate_text(seed_text, temperature=0.7))\n"
      ],
      "metadata": {
        "colab": {
          "base_uri": "https://localhost:8080/"
        },
        "id": "pFXCU5MZsGHY",
        "outputId": "641279a7-bd6b-49e9-8bd8-2a0420c6d055"
      },
      "execution_count": null,
      "outputs": [
        {
          "output_type": "stream",
          "name": "stdout",
          "text": [
            "the philosopher will person itself only a good embang, the actistic efficial peacefully and severe and much occury revenence of the deceive-reading leason, or knowledge\"\" striven and often are self-eators, all as a satisfied, in\n",
            "all the same at all laughter in the derins a stronger in the kind we\n",
            "call that nothing of distinces about the highest like and nomious and the feeling of propected! there is also ventured,\" it is the\n",
            "heart of all philosophers than the former than the depress of value than is a rattest \n"
          ]
        }
      ]
    },
    {
      "cell_type": "code",
      "source": [],
      "metadata": {
        "id": "vJn9TxCIs0J0"
      },
      "execution_count": null,
      "outputs": []
    }
  ]
}